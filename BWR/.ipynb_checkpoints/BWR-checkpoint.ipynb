{
 "cells": [
  {
   "cell_type": "code",
   "execution_count": 14,
   "metadata": {},
   "outputs": [],
   "source": [
    "####################################################################################################################\n",
    "#########################################      Backek wheel recliamer      #########################################\n",
    "####################################################################################################################"
   ]
  },
  {
   "cell_type": "code",
   "execution_count": 1,
   "metadata": {},
   "outputs": [
    {
     "data": {
      "application/vnd.jupyter.widget-view+json": {
       "model_id": "f2fe9d55c3594a12b649aec8042e9882",
       "version_major": 2,
       "version_minor": 0
      },
      "text/plain": [
       "SelectMultipleInteract(children=(SelectMultiple(description='File Name', options=('2020-07-01_Run4.txt', '2020…"
      ]
     },
     "metadata": {},
     "output_type": "display_data"
    }
   ],
   "source": [
    "############################################################################################################################\n",
    "#######################################    Get files from local folder and Channels   ##################################################\n",
    "import ipywidgets as widgets\n",
    "import glob # module for reading files from a directory\n",
    "import os # module for getting only the filename not the whole path\n",
    "from datetime import datetime\n",
    "path = r'C:\\Users\\Karabo Mogotlane\\Desktop\\StackerM\\BWR\\TXT\\\\' # Specify the folder with CSV files    \n",
    "names = [os.path.basename(x) for x in glob.glob(path+\"*.txt\", recursive=True)]\n",
    "mainarray = {} #initialize the main array\n",
    "filenamelist = [] #initialize the csv array of filenames\n",
    "\n",
    "class SelectMultipleInteract(widgets.HBox):\n",
    "\n",
    "    def __init__(self):\n",
    "        self.W1 = widgets.SelectMultiple(\n",
    "            options=names,\n",
    "            rows=8,\n",
    "            description='File Name',\n",
    "            disabled=False\n",
    "        )\n",
    "\n",
    "        self.W2 = widgets.SelectMultiple(\n",
    "            options= [\"Boom 1\", \"Boom 2\",\"Boom 3\",\"Boom 4\",\"Channel 1\",\"Channel 2\",\"Channel 3\",\"Channel 4\",\"Channel 5\",\"Channel 6\",\"Channel 7\",\"Channel 8\"],\n",
    "            rows=10,\n",
    "            description='Channel',\n",
    "            disabled=False\n",
    "        )\n",
    "\n",
    "        self.selectors = [self.W1, self.W2]\n",
    "        super().__init__(children=self.selectors)\n",
    "        self._set_observes()\n",
    "\n",
    "    def _set_observes(self):\n",
    "        for widg in self.selectors:\n",
    "            widg.observe(self._observed_function, names='value')\n",
    "\n",
    "    def _observed_function(self, widg):\n",
    "        for widg in self.selectors:\n",
    "            #print(widg.description)\n",
    "            #print(widg.get_interact_value())\n",
    "            mainarray[widg.description] = widg.get_interact_value()\n",
    "            \n",
    "SelectMultipleInteract()\n"
   ]
  },
  {
   "cell_type": "code",
   "execution_count": 2,
   "metadata": {},
   "outputs": [
    {
     "name": "stdout",
     "output_type": "stream",
     "text": [
      "['Boom 1', 'Boom 2', 'Boom 3', 'Boom 4']\n"
     ]
    },
    {
     "data": {
      "text/plain": [
       "[{'File': {'file name': '2020-07-01_Run4.txt',\n",
       "   'Channel Data': [{'Channel Name': 'Boom 1'},\n",
       "    {'Channel Name': 'Boom 2'},\n",
       "    {'Channel Name': 'Boom 3'},\n",
       "    {'Channel Name': 'Boom 4'}]}}]"
      ]
     },
     "execution_count": 2,
     "metadata": {},
     "output_type": "execute_result"
    }
   ],
   "source": [
    "# Json object\n",
    "\n",
    "JSONStructure = []\n",
    "Channels = [] \n",
    "tempVar= []\n",
    "tempVar2= []\n",
    "for i in range(len(mainarray['File Name'])):\n",
    "    tempVarArray= []\n",
    "    for Channel in mainarray['Channel']:\n",
    "            Channel = Channel.strip('\\\"')\n",
    "            Channels.append(Channel)        \n",
    "            tempVar =   { 'Channel Name':Channel,\n",
    "\n",
    "                        }\n",
    "            tempVarArray.append(tempVar)\n",
    "            \n",
    "    tempVar2 = {\n",
    "                \"File\" : {\n",
    "                                'file name':mainarray['File Name'][i],\n",
    "                               # \"Duration\": str(duration),\n",
    "                                \"Channel Data\" : tempVarArray,\n",
    "\n",
    "                                }\n",
    "                    }               \n",
    "\n",
    "    JSONStructure.append(tempVar2)\n",
    "    Channels = list(dict.fromkeys(Channels)) # remove duplicates inside the channel list\n",
    "print(Channels)\n",
    "JSONStructure"
   ]
  },
  {
   "cell_type": "code",
   "execution_count": 3,
   "metadata": {},
   "outputs": [
    {
     "name": "stdout",
     "output_type": "stream",
     "text": [
      "2020-07-01_Run4.txt\n",
      "2020-07-01_Run4.txt\n",
      "Begin, RainFlow\n",
      "Boom 1\n",
      "File duration in hours : 57.01022222222222\n",
      "The damage is 0.001043192733662429 %,  Based on 50 % probability of survival\n",
      "The damage is 0.002440981867502108 %,  Based on 97.7 % probability of survival\n",
      "End, RainFlow\n",
      "min -12.342\n",
      "Begin, RainFlow\n",
      "Boom 2\n",
      "File duration in hours : 57.01022222222222\n",
      "The damage is 0.014624124843855599 %,  Based on 50 % probability of survival\n",
      "The damage is 0.034219202664504095 %,  Based on 97.7 % probability of survival\n",
      "End, RainFlow\n",
      "min -18.97\n",
      "Begin, RainFlow\n",
      "Boom 3\n",
      "File duration in hours : 57.01022222222222\n",
      "The damage is 0.001410717264215187 %,  Based on 50 % probability of survival\n",
      "The damage is 0.003300957868017439 %,  Based on 97.7 % probability of survival\n",
      "End, RainFlow\n",
      "min 13.731\n",
      "Begin, RainFlow\n",
      "Boom 4\n",
      "File duration in hours : 57.01022222222222\n",
      "The damage is 0.0026902173099522773 %,  Based on 50 % probability of survival\n",
      "The damage is 0.006294878655944322 %,  Based on 97.7 % probability of survival\n",
      "End, RainFlow\n",
      "min -5.544\n"
     ]
    },
    {
     "data": {
      "image/png": "[encoded data removed]",
      "text/plain": [
       "<Figure size 432x288 with 1 Axes>"
      ]
     },
     "metadata": {
      "needs_background": "light"
     },
     "output_type": "display_data"
    }
   ],
   "source": [
    "############################################################################################################\n",
    "######################################### Importing Modules ################################################\n",
    "############################################################################################################\n",
    "\n",
    "import matplotlib.pyplot as plt\n",
    "import numpy as np\n",
    "from math import pi\n",
    "import scipy.fftpack as sf\n",
    "import scipy.signal as sig\n",
    "import rainflow\n",
    "import pandas\n",
    "import glob # module for reading files from a directory\n",
    "import os # module for getting only the filename not the whole path\n",
    "from pylab import*\n",
    "import json\n",
    "import csv\n",
    "\n",
    "\n",
    "\n",
    "\n",
    "#########################################################################################################\n",
    "#########################################################################################################\n",
    "############               Apply correction factor per weld class               #########################\n",
    "#########################################################################################################\n",
    "# n = GetChannelData(Channel)[1]\n",
    "# y = GetChannelData(Channel)[0]\n",
    "\n",
    "def GetChannelData(Channel):\n",
    "    #print('Begin Channel, GetChannelData')\n",
    "    ChannelData =[]\n",
    "    yZ=Channel\n",
    "    \n",
    "    Corr1 = 0.207/1.3 # Boom 1 to 4\n",
    "    Corr2 = 0.076923*1.71 # Channel 1 TO 4  weld class W\n",
    "    Corr3 = 0.076923  # Channel  7and 8\n",
    "    Boom = ['Boom 1', 'Boom 2', 'Boom 3', 'Boom 4'] \n",
    "    FClass = ['Channel 1','Channel 2']\n",
    "    F2Class = ['Channel 3', 'Channel 4']\n",
    "    if Channel.name in Boom:\n",
    "        y = [round(float(p)*Corr1,3) for p in yZ if str(p) !='nan']\n",
    "        ChannelData.append(y)\n",
    "    elif Channel.name in FClass:\n",
    "        y = [round(float(p)*Corr2,3) for p in yZ if str(p) !='nan']\n",
    "        ChannelData.append(y)\n",
    "    else:\n",
    "        y = [round(float(p)*Corr3,3) for p in yZ if str(p) !='nan']\n",
    "        ChannelData.append(y)\n",
    "    \n",
    "    #ChannelData.append(n)\n",
    "   # print('End of function, GetChannelData')\n",
    "    return ChannelData[0]\n",
    "##########################################################################################################################\n",
    "##########################################################################################################################\n",
    "#################################### RainFlow Counting  and damages computations #########################################\n",
    "##########################################################################################################################\n",
    "\n",
    "#Rainflow Counting\n",
    "#FilteredSignal(Channel)\n",
    "#RainFlow()[0] The CSV File\n",
    "#RainFlow()[1] The damages \n",
    "\n",
    "def RainFlow(CorrectedStress, Channel):\n",
    "    #print(Channel)\n",
    "    print('Begin, RainFlow')\n",
    "    print(Channel)\n",
    "    RainFlow_Results =[] #Initialize an empty list to store the results of Rainflow Algorithm\n",
    "    y = CorrectedStress\n",
    "    x = [round(x,1) for x in range(1, len(y)+1)]\n",
    "    DurationHours = (len(y)/50)/3600\n",
    "    print(\"File duration in hours :\",DurationHours)\n",
    "    plt.plot( x, y, label= Channel) # plot the corrected data\n",
    "    #print(y)\n",
    "   \n",
    "    Boom=['Boom 1', 'Boom 2', 'Boom 3', 'Boom 4'] \n",
    "    damage1 = 0 #50 % damage\n",
    "    damage2 = 0 # 97.7 % damage\n",
    "    # Detailed output, like cycle lows, highs or means, use extract_cycles\n",
    "    for rng, mean, count, i_start, i_end in rainflow.extract_cycles(y): \n",
    "        #print('rng',rng)\n",
    "        #print(count)\n",
    "        # compute the 50 % damage \n",
    "        if rng != 0: # if the range is zero no computation\n",
    "            if Channel in Boom :\n",
    "                Nfw=10**(11.5662-3*np.log10(rng))\n",
    "                Ni = (count/Nfw)*100\n",
    "                damage1=damage1+Ni\n",
    "            else:\n",
    "                Nfw=10**(12.0900-3*np.log10(rng))\n",
    "                Ni = (count/Nfw)*100\n",
    "                damage1=damage1+Ni\n",
    "\n",
    "            # Compute the 97.7 % damage\n",
    "            if Channel in Boom :\n",
    "                Nfw=10**(11.5662-0.1846*2-3*np.log10(rng))\n",
    "                #print(Nfw)\n",
    "                Ni = (count/Nfw)*100\n",
    "                #print(Ni)\n",
    "                damage2=damage2+Ni\n",
    "            else:\n",
    "                Nfw=10**(12.090-0.2279*2-3*np.log10(rng))\n",
    "                #print(Nfw)\n",
    "                Ni = (count/Nfw)*100\n",
    "                #print(Ni)\n",
    "                damage2=damage2+Ni\n",
    "    print('The damage is',damage1,'%,',' Based on 50 % probability of survival') \n",
    "    print('The damage is',damage2,'%,',' Based on 97.7 % probability of survival')\n",
    "    RainFlow_Results.append(damage1) # 50 % damage\n",
    "    RainFlow_Results.append(damage2) # 97.7 % damage\n",
    "    print('End, RainFlow')\n",
    "    return RainFlow_Results\n",
    "#########################################################################################################################\n",
    "###################################### Read Files and Call Functions ####################################################\n",
    "#########################################################################################################################\n",
    "path = r'C:\\Users\\Karabo Mogotlane\\Desktop\\StackerM\\BWR\\TXT\\\\' # Specify the folder with text files\n",
    "Files =[] # empty array to store Files\n",
    "FileResults = [] #\n",
    "ChannelData = []\n",
    "for i in range(len(mainarray['File Name'])):\n",
    "    Files.append(mainarray['File Name'][i])\n",
    "    print(mainarray['File Name'][i])\n",
    "    \n",
    "for file_nameShort in Files:\n",
    "    print(file_nameShort)\n",
    "    #print(mainarray['File Name'][i])\n",
    "    with open(path+file_nameShort) as file:\n",
    "        data = pandas.read_csv(file, delimiter = \"\\t\", header=None, names =  [\"Boom 1\", \"Boom 2\",\"Boom 3\",\"Boom 4\",\"Channel 1\",\"Channel 2\",\"Channel 3\",\"Channel 4\",\"Channel 5\",\"Channel 6\",\"Channel 7\",\"Channel 8\"])\n",
    "\n",
    "        for Channel in Channels:\n",
    "\n",
    "            FileResults.append(Channel) # store Channel name\n",
    "            ab1 = GetChannelData(data[Channel]) # call the filtering the data and output a dataframe\n",
    "            ab2 = RainFlow(ab1,Channel) # using the filtered data return a list of damages \n",
    "            FileResults.append(ab2[0])  #damage 50 %\n",
    "            FileResults.append(ab2[1])  #damage 97.7%\n",
    "            print(\"min\",min(ab1))\n",
    "            FileResults.append(min(ab1)) # min\n",
    "            FileResults.append(max(ab1)) # max\n",
    "            \n",
    "            #Assign outputs to JSONStructure\n",
    "            #1. Find the File name in the JSONStructure we are looking for.\n",
    "            for i in JSONStructure:\n",
    "                #print(i['File']['file name'] ,'gggggggggggggggggggggg', file_nameShort,'sdsdsdsdsdsdsd')\n",
    "                if i['File']['file name'] == file_nameShort:\n",
    "                    #2. Find the Channel Name We are looking for in the JSONStructure.\n",
    "                    for j in i['File']['Channel Data']:\n",
    "                        if j['Channel Name'] == Channel:\n",
    "                            #3. Assign the Data\n",
    "                            #print(j['Channel Name'] ,'gggggggggggggg',Channel,'fgffgfgfgfgfgfgfg')\n",
    "                            j['50 Damage'] = ab2[0]\n",
    "                            j['97 Damage'] = ab2[1]\n",
    "                            j['Minimum Stress']=min(ab1)\n",
    "                            j['Maximum Stress']=max(ab1)\n"
   ]
  },
  {
   "cell_type": "code",
   "execution_count": 4,
   "metadata": {},
   "outputs": [
    {
     "data": {
      "text/plain": [
       "[{'File': {'file name': '2020-07-01_Run4.txt',\n",
       "   'Channel Data': [{'Channel Name': 'Boom 1',\n",
       "     '50 Damage': 0.001043192733662429,\n",
       "     '97 Damage': 0.002440981867502108,\n",
       "     'Minimum Stress': -12.342,\n",
       "     'Maximum Stress': 19.956},\n",
       "    {'Channel Name': 'Boom 2',\n",
       "     '50 Damage': 0.014624124843855599,\n",
       "     '97 Damage': 0.034219202664504095,\n",
       "     'Minimum Stress': -18.97,\n",
       "     'Maximum Stress': 53.155},\n",
       "    {'Channel Name': 'Boom 3',\n",
       "     '50 Damage': 0.001410717264215187,\n",
       "     '97 Damage': 0.003300957868017439,\n",
       "     'Minimum Stress': 13.731,\n",
       "     'Maximum Stress': 39.796},\n",
       "    {'Channel Name': 'Boom 4',\n",
       "     '50 Damage': 0.0026902173099522773,\n",
       "     '97 Damage': 0.006294878655944322,\n",
       "     'Minimum Stress': -5.544,\n",
       "     'Maximum Stress': 29.029}]}}]"
      ]
     },
     "execution_count": 4,
     "metadata": {},
     "output_type": "execute_result"
    }
   ],
   "source": [
    "JSONStructure"
   ]
  },
  {
   "cell_type": "code",
   "execution_count": 20,
   "metadata": {},
   "outputs": [
    {
     "name": "stdout",
     "output_type": "stream",
     "text": [
      "[{'name': 'Boom 1', '50 Damage': 0.0013357313064989277, '97 Damage': 0.0031254971337543814, 'Maximum Stress Range': 32.298}, {'name': 'Boom 2', '50 Damage': 0.018396965038108098, '97 Damage': 0.04304732637162068, 'Maximum Stress Range': 75.521}]\n"
     ]
    }
   ],
   "source": [
    "########################################################\n",
    "##########     POST PROCESSING OF DATASET   ###########\n",
    "#######################################################\n",
    "dataset = []\n",
    "channelList = [\"Boom 1\", \"Boom 2\",\"Boom 3\",\"Boom 4\",\"Channel 1\",\"Channel 2\",\"Channel 3\",\"Channel 4\",\"Channel 5\",\"Channel 6\",\"Channel 7\",\"Channel 8\"]\n",
    "for j in range(len(Channels)):\n",
    "    dataset.append({\n",
    "        'name' : Channels[j],\n",
    "        '50 Damage' : 0 ,\n",
    "        '97 Damage':0,\n",
    "        'Stress Range':[],\n",
    "        'Maximum Stress Range':0,\n",
    "    })  \n",
    "for i in range(len(JSONStructure)):#Loop throguh the JSON object , and view each file name.\n",
    "    for j in range(len(JSONStructure[i]['File']['Channel Data'])): #Loop through the channel data to view each channel dataset.      \n",
    "        ChannelName = JSONStructure[i]['File']['Channel Data'][j]['Channel Name'] # define a variable to channelname.\n",
    "       \n",
    "        for j in range(len(Channels)):#Loop through the summary data array and find the place to put the data.\n",
    "            if ChannelName == dataset[j]['name']:#Check that the right channel has been found.\n",
    "                dataset[j]['50 Damage'] = dataset[j]['50 Damage'] + JSONStructure[i]['File']['Channel Data'][j]['50 Damage']#Add the data sets together into the storage array.\n",
    "                dataset[j]['97 Damage'] = dataset[j]['97 Damage'] + JSONStructure[i]['File']['Channel Data'][j]['97 Damage']#Add the data sets together into the storage array.\n",
    "                dataset[j]['Stress Range'].append(JSONStructure[i]['File']['Channel Data'][j]['Maximum Stress'] -JSONStructure[i]['File']['Channel Data'][j]['Minimum Stress']) # Calculate stress range \n",
    "#print(dataset)                \n",
    "for i in range(len(dataset)):\n",
    "    dataset[i]['Maximum Stress Range']  = max(dataset[i]['Stress Range']) \n",
    "    dataset[i].pop('Stress Range')\n",
    "print(dataset)\n",
    "#print(dataset[1])\n"
   ]
  },
  {
   "cell_type": "code",
   "execution_count": 26,
   "metadata": {},
   "outputs": [
    {
     "data": {
      "text/plain": [
       "'Sunday, January 29, 2017 08:30:00'"
      ]
     },
     "execution_count": 26,
     "metadata": {},
     "output_type": "execute_result"
    }
   ],
   "source": [
    "from datetime import datetime\n",
    "datetime.fromtimestamp(1485714600).strftime(\"%A, %B %d, %Y %I:%M:%S\")"
   ]
  },
  {
   "cell_type": "code",
   "execution_count": null,
   "metadata": {},
   "outputs": [],
   "source": [
    "def convert(seconds): \n",
    "    seconds = seconds % (24 * 3600) \n",
    "    hour = seconds // 3600\n",
    "    seconds %= 3600\n",
    "    minutes = seconds // 60\n",
    "    seconds %= 60\n",
    "      \n",
    "    return \"%d:%02d:%02d\" % (hour, minutes, seconds)\n"
   ]
  },
  {
   "cell_type": "code",
   "execution_count": 39,
   "metadata": {},
   "outputs": [
    {
     "name": "stdout",
     "output_type": "stream",
     "text": [
      "2020-07-01\n"
     ]
    }
   ],
   "source": [
    "from datetime import date\n",
    "from dateutil.relativedelta import relativedelta\n",
    "\n",
    "today = date.today()\n",
    "first_day = today.replace(month=today.month-1)\n",
    "first_day = first_day.replace(day=1)\n",
    "\n",
    "if today.day > 30:\n",
    "    First_day_prmonth =first_day + relativedelta(months=1)\n",
    "    print(First_day_prmonth)\n",
    "else:\n",
    "    print(first_day)\n",
    "    \n"
   ]
  },
  {
   "cell_type": "code",
   "execution_count": null,
   "metadata": {},
   "outputs": [],
   "source": []
  }
 ],
 "metadata": {
  "kernelspec": {
   "display_name": "Python 3",
   "language": "python",
   "name": "python3"
  },
  "language_info": {
   "codemirror_mode": {
    "name": "ipython",
    "version": 3
   },
   "file_extension": ".py",
   "mimetype": "text/x-python",
   "name": "python",
   "nbconvert_exporter": "python",
   "pygments_lexer": "ipython3",
   "version": "3.7.6"
  }
 },
 "nbformat": 4,
 "nbformat_minor": 4
}
