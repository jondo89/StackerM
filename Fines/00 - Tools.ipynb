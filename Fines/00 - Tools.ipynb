{
 "cells": [
  {
   "cell_type": "code",
   "execution_count": 20,
   "id": "8706077f",
   "metadata": {},
   "outputs": [
    {
     "data": {
      "text/plain": [
       "CompletedProcess(args='mongorestore --db entangelment C:\\\\GitHub\\\\mongodbbackup_cloud\\\\2023-06-08\\\\entangelment\\\\', returncode=1)"
      ]
     },
     "execution_count": 20,
     "metadata": {},
     "output_type": "execute_result"
    }
   ],
   "source": [
    "from pymongo import MongoClient\n",
    "import os\n",
    "from pathlib import Path \n",
    "from dotenv import load_dotenv\n",
    "\n",
    "# load .env file from current directory\n",
    "env_path = Path('.') / '.env'\n",
    "load_dotenv(dotenv_path=env_path)\n",
    "\n",
    "# set environment variables\n",
    "COLLECTIONCSVFILES = os.getenv('COLLECTIONCSVFILES')\n",
    "BACKUP_PATH = 'C:\\\\GitHub\\\\mongodbbackup_cloud\\\\2023-06-08\\\\' # path to your backup directory\n",
    "\n",
    "# establish a connection to the MongoDB\n",
    "client = MongoClient('mongodb://localhost:27017')\n",
    "\n",
    "# drop the 'entanglement' database\n",
    "client.drop_database('entangelment')\n",
    "\n",
    "BACKUP_PATH = 'C:\\\\GitHub\\\\mongodbbackup_cloud\\\\2023-06-08\\\\entangelment\\\\'\n",
    "# restore the 'entangelment' database from the backup\n",
    "restore_command = f\"mongorestore --db entangelment {BACKUP_PATH}\"\n",
    "subprocess.run(restore_command, shell=True)\n"
   ]
  },
  {
   "cell_type": "code",
   "execution_count": null,
   "id": "c3fb471e",
   "metadata": {},
   "outputs": [],
   "source": []
  }
 ],
 "metadata": {
  "kernelspec": {
   "display_name": "Python 3 (ipykernel)",
   "language": "python",
   "name": "python3"
  },
  "language_info": {
   "codemirror_mode": {
    "name": "ipython",
    "version": 3
   },
   "file_extension": ".py",
   "mimetype": "text/x-python",
   "name": "python",
   "nbconvert_exporter": "python",
   "pygments_lexer": "ipython3",
   "version": "3.11.4"
  }
 },
 "nbformat": 4,
 "nbformat_minor": 5
}
