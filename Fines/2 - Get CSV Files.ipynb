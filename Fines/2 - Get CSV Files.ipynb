{
 "cells": [
  {
   "cell_type": "code",
   "execution_count": 1,
   "metadata": {},
   "outputs": [],
   "source": [
    "########################################## FINES STACKER - KOLOMELA ##########################################"
   ]
  },
  {
   "cell_type": "code",
   "execution_count": 12,
   "metadata": {},
   "outputs": [],
   "source": [
    "#INSTRUCTIONS:\n",
    "#1. Copy data set to CSV folder to be processed. \n",
    "#2. Run this script to generate an array of JSON objects summaizing the CSV files that are available.\n",
    "#3. Post this array to mongodb.\n",
    "\n",
    "#Google Drive Functional Spec\n",
    "#https://docs.google.com/document/d/1DxqJCOKn40OIKej5CaKQ3CNnHxVCJO3I2LFPDUv4V0I/edit#\n",
    "\n",
    "#User Manual\n",
    "#https://docs.google.com/document/d/1qL2m3qvlNFPelwpigaVLsu8i0OQEmeqqw3ghwsF5W4E/edit?usp=sharing"
   ]
  },
  {
   "cell_type": "code",
   "execution_count": 45,
   "metadata": {},
   "outputs": [],
   "source": [
    "#Troubleshooting notes\n",
    "#1. Install of the pip modules that dont work.\n",
    "#2. Left of this cell is the the word \"In [x]: this defines the cell reference. If this cell is run , and an Asterix * is shown next to it , this implies this is Loading/busy and the user should wait.\"\n",
    "#3. The mongouri and ssl certification process changes often. there is generally good stack overflow data to correct when requried."
   ]
  },
  {
   "cell_type": "code",
   "execution_count": 95,
   "metadata": {},
   "outputs": [],
   "source": [
    "#Required tests.\n",
    "#1. check if duration calc is functional.\n",
    "#2. establish test data set for fines , lumpy and bwr.\n",
    "#3. Precheck test on 3 data sets prior to posting."
   ]
  },
  {
   "cell_type": "code",
   "execution_count": 133,
   "metadata": {},
   "outputs": [],
   "source": [
    "machine = \"fines\"\n",
    "path = 'D:/New folder/FINES/FINES - January 2023/06/e/'"
   ]
  },
  {
   "cell_type": "code",
   "execution_count": 134,
   "metadata": {},
   "outputs": [
    {
     "name": "stdout",
     "output_type": "stream",
     "text": [
      "D:/New folder/FINES/FINES - January 2023/06/e\\12-06-2022_04-32-17-576.csv 0/6\n",
      "D:/New folder/FINES/FINES - January 2023/06/e\\12-06-2022_10-32-17-613.csv 1/6\n",
      "D:/New folder/FINES/FINES - January 2023/06/e\\12-06-2022_16-32-17-635.csv 2/6\n",
      "D:/New folder/FINES/FINES - January 2023/06/e\\12-06-2022_22-32-17-675.csv 3/6\n",
      "D:/New folder/FINES/FINES - January 2023/06/e\\13-06-2022_04-32-17-696.csv 4/6\n",
      "D:/New folder/FINES/FINES - January 2023/06/e\\13-06-2022_10-32-17-717.csv 5/6\n",
      "complete\n"
     ]
    }
   ],
   "source": [
    "#################################################################\n",
    "########  READ THE CSV FILES TO BE PROCESSED INTO MONGO  ########\n",
    "#################################################################\n",
    "\n",
    "############################################\n",
    "########### Importing Modules ##############\n",
    "############################################\n",
    "import glob # module for reading files from a directory\n",
    "import os # module for getting only the filename not the whole path\n",
    "import pandas #module pandas\n",
    "from datetime import datetime #pip module for handling date and time\n",
    " \n",
    "RawData = pandas.DataFrame() # Initialize an empty dataframe \n",
    "names = [os.path.basename(x) for x in glob.glob(path+\"*.csv\", recursive=True)] #loop through all files in the director.\n",
    "datelist = [] #create empty array for storing CSV data.\n",
    " \n",
    "filecount = len([name for name in os.listdir(path) if os.path.isfile(os.path.join(path, name))])\n",
    "count = 0    \n",
    "    \n",
    "for file_name in glob.glob(path+'*.csv', recursive=True):\n",
    "    print(file_name +\" \"+ str(count) + \"/\" + str(filecount))\n",
    "    count = count+1\n",
    "    nameFile = os.path.basename(file_name)#get the file name of the extract only.\n",
    "    x = pandas.read_csv(file_name, delimiter=';',low_memory=False)#read in each CSV file\n",
    "\n",
    "    #Extract the start and end times on each CSV file\n",
    "    startTime= str(x.iloc[[0]]['Time'].values[0]) # string extract of start and end times for CSV\n",
    "    EndTime= str(x.iloc[[-5]]['Time'].values[0]) # string extract of start and end times for CSV\n",
    "\n",
    "    #This is code is string managment to allow for proper time keeping in Javascript conversions.\n",
    "    if startTime[11:13] =='24':\n",
    "        print(int(startTime[11:13]))\n",
    "        startTime= str(0)+str(int(startTime[:1])+1)+startTime[2:10]+\"_\"+str(startTime[11:13].replace(\"24\",\"00\"))+\"-\"+startTime[14:]\n",
    "   \n",
    "    if EndTime[11:13] =='24':\n",
    "        print(int(EndTime[11:13])+1)\n",
    "        EndTime= str(0)+ str(int(EndTime[:1])+1)+EndTime[2:10]+\"_\"+str(EndTime[11:13].replace(\"24\",\"00\"))+\"-\"+EndTime[14:]\n",
    "        \n",
    "    dateObject = str(startTime[0:10]).replace(\"-\", \" \")\n",
    "    timeObject = str(startTime[11:19]).replace(\"-\", \" \")\n",
    "\n",
    "    total = dateObject+' '+timeObject\n",
    "    dateObject = datetime.strptime(total, '%d %m %Y %H %M %S')\n",
    "    startTimeStr = str(dateObject)\n",
    "    startTime = dateObject\n",
    "   \n",
    "    dateObject = str(EndTime[0:10]).replace(\"-\", \" \")\n",
    "    timeObject = str(EndTime[11:19]).replace(\"-\", \" \")\n",
    "    total = dateObject+' '+timeObject\n",
    "    dateObject = datetime.strptime(total, '%d %m %Y %H %M %S')\n",
    "    EndTimeStr = str(dateObject)\n",
    "    EndTime = dateObject\n",
    "    \n",
    "    from datetime import datetime, timedelta \n",
    "    duration = EndTime - startTime\n",
    "\n",
    "    if duration.days == 1:\n",
    "        duration=duration-timedelta(days=1)\n",
    "    if duration.days == -1:\n",
    "        duration=duration+timedelta(days=1) \n",
    "    if duration.days == 2:\n",
    "        duration=duration-timedelta(days=2)\n",
    "\n",
    "    #print(\"----- ------------------------- -----\")\n",
    "    #print(\"CSV File Name : \",file_name)\n",
    "    #print('Start Time : ',startTime)\n",
    "    #print('End Time : ',EndTime) \n",
    "    #print(\"Duration in Days : \" ,duration.days)        \n",
    "    #print(\"Duration : \" ,duration)\n",
    "    #print(\"----- ------------------------- -----\")\n",
    " \n",
    "    #JSON OBJECT CONSTRUCTION.\n",
    "    datelist.append({\n",
    "        \"filename\":nameFile,\n",
    "        \"startdate\":startTimeStr,\n",
    "        \"enddate\":EndTimeStr,\n",
    "        \"duration\":str(duration),\n",
    "    })\n",
    "print('complete')"
   ]
  },
  {
   "cell_type": "code",
   "execution_count": 135,
   "metadata": {},
   "outputs": [],
   "source": [
    "#This is a file stream function , and as such requries a \"promise\" for inline code, wont work in the cell as is below. \n",
    "from pathlib import Path\n",
    "from dotenv import load_dotenv # add this line\n",
    "import os\n",
    "env_path = Path('.') / '.env'\n",
    "load_dotenv(dotenv_path=env_path)\n",
    "\n",
    "THIS_MACHINE_ENV = os.getenv('THIS_MACHINE_ENV')\n",
    "\n",
    "if(THIS_MACHINE_ENV != machine):\n",
    "    print(\"TEST FAIL : .ENV is incorrect or out of date.\")\n",
    " \n",
    "\n",
    "# A missing or out-of-date .env file can cause errors in a software project.\n",
    "# The .env file stores important configuration information and environment variables needed for the software to function correctly.\n",
    "# If this information is missing or incorrect, the software may not be able to connect to databases or third-party services, or may not be able to access other critical resources.\n",
    "# For example, in a Node.js application, if a database connection string is stored in the .env file and the file is missing or contains an outdated connection string, the application will not be able to connect to the database, causing errors or failure to function correctly.\n",
    "# Similarly, if an API key or other authentication credentials are stored in the .env file and are missing or out-of-date, the software may not be able to authenticate with third-party services or may be denied access to critical resources.\n",
    "# In summary, the .env file is a critical component of many software projects that store sensitive data and configurations. It should be kept up-to-date and include all necessary environment variables to ensure the software functions correctly."
   ]
  },
  {
   "cell_type": "code",
   "execution_count": 136,
   "metadata": {},
   "outputs": [
    {
     "name": "stdout",
     "output_type": "stream",
     "text": [
      "Pushed to server : D:/New folder/FINES/FINES - January 2023/06/e/\n"
     ]
    }
   ],
   "source": [
    "##############################################\n",
    "########  CONNECT TO REMOTE MONGODB  ########\n",
    "############################################\n",
    "import pymongo #import the pymongo pip\n",
    "import datetime #pip module for handling date and time\n",
    "from pymongo import MongoClient #mongodb management\n",
    "import os\n",
    "import certifi #pip module for SSL certificates\n",
    "user = os.getenv('MYSQL_USER')\n",
    "userPC = os.environ['COMPUTERNAME'] # WORK ONLY ON WINDOWS\n",
    "password = os.getenv('MYSQL_PASSWORD')\n",
    "host = os.getenv('MYSQL_HOST')\n",
    "COLLECTIONCSVFILES = os.getenv('COLLECTIONCSVFILES')\n",
    "conn_text = 'mongodb+srv://{}:{}@{}/?retryWrites=true&w=majority'.format(user,password,host)\n",
    "client = MongoClient(conn_text, tlsCAFile=certifi.where())\n",
    "db = client.entangelment\n",
    "collection = db[COLLECTIONCSVFILES]\n",
    "post = {\n",
    "        \"author\": userPC,\n",
    "        \"date\": datelist,\n",
    "        \"timestamp\": datetime.datetime.utcnow(),\n",
    "        \"comment\": path\n",
    "       }\n",
    "post_id = collection.insert_one(post)\n",
    "print(\"Pushed to server : \" + path)"
   ]
  },
  {
   "cell_type": "code",
   "execution_count": 100,
   "metadata": {},
   "outputs": [
    {
     "name": "stdout",
     "output_type": "stream",
     "text": [
      "This CSV datelist file will be pushed to the Mongodb cloud under the collection :  entangelment  for the  fines  machine.\n"
     ]
    }
   ],
   "source": [
    "# https://cloud.mongodb.com/\n",
    "# The script to follow will upload \"datelist\" into mongodbcloud.\n",
    "import webbrowser\n",
    "webbrowser.open('https://cloud.mongodb.com/')\n",
    "# The Cluster is under the Isithelo Project , Cluster \n",
    "# Entangelment spelt wrong :( \n",
    "COLLECTIONCSVFILES = os.getenv('COLLECTIONCSVFILES'); \n",
    "print('This CSV datelist file will be pushed to the Mongodb cloud under the collection : ', COLLECTIONCSVFILES , \" for the \", THIS_MACHINE_ENV , \" machine.\")"
   ]
  },
  {
   "cell_type": "code",
   "execution_count": 23,
   "metadata": {},
   "outputs": [
    {
     "name": "stdout",
     "output_type": "stream",
     "text": [
      "This CSV datelist file has been pushed to the Mongodb cloud under the collection :  entangelment  for the  fines  machine.\n"
     ]
    }
   ],
   "source": [
    "print('This CSV datelist file has been pushed to the Mongodb cloud under the collection : ', COLLECTIONCSVFILES , \" for the \", THIS_MACHINE_ENV , \" machine.\")"
   ]
  },
  {
   "cell_type": "code",
   "execution_count": 12,
   "metadata": {},
   "outputs": [
    {
     "data": {
      "text/plain": [
       "True"
      ]
     },
     "execution_count": 12,
     "metadata": {},
     "output_type": "execute_result"
    }
   ],
   "source": [
    "import webbrowser\n",
    "webbrowser.open('http://localhost:8888/notebooks/'+machine+'/3 - Process the CSV Files.ipynb')"
   ]
  },
  {
   "cell_type": "code",
   "execution_count": null,
   "metadata": {},
   "outputs": [],
   "source": []
  }
 ],
 "metadata": {
  "kernelspec": {
   "display_name": "Python 3 (ipykernel)",
   "language": "python",
   "name": "python3"
  },
  "language_info": {
   "codemirror_mode": {
    "name": "ipython",
    "version": 3
   },
   "file_extension": ".py",
   "mimetype": "text/x-python",
   "name": "python",
   "nbconvert_exporter": "python",
   "pygments_lexer": "ipython3",
   "version": "3.10.11"
  }
 },
 "nbformat": 4,
 "nbformat_minor": 4
}
