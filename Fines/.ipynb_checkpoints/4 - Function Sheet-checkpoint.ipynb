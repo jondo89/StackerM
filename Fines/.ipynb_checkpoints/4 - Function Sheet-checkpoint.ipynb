{
 "cells": [
  {
   "cell_type": "code",
   "execution_count": 6,
   "id": "7b744bfc",
   "metadata": {},
   "outputs": [
    {
     "name": "stdout",
     "output_type": "stream",
     "text": [
      "FINES_SIMS 0760260588\n",
      "FINES_ROUTER_IP http://192.168.100.201/\n",
      "FINES_IP http://192.168.100.101/\n",
      "FINES_PM_PASSWORD kiostrain1\n",
      "BROWSER_APP http://localhost:2000/\n"
     ]
    },
    {
     "data": {
      "text/plain": [
       "True"
      ]
     },
     "execution_count": 6,
     "metadata": {},
     "output_type": "execute_result"
    }
   ],
   "source": [
    "#This is a file stream function , and as such requries a \"promise\" for inline code, wont work in the cell as is below. \n",
    "#To lazy to work out syncronous functions in python yet.\n",
    "import os\n",
    "from pathlib import Path \n",
    "from dotenv import load_dotenv # add this line\n",
    "env_path = Path('.') / '.env'\n",
    "load_dotenv(dotenv_path=env_path)\n",
    "import webbrowser\n",
    "\n",
    "FINES_SIMS = os.getenv('FINES_SIMS')\n",
    "FINES_ROUTER_IP = os.getenv('FINES_ROUTER_IP')\n",
    "FINES_IP = os.getenv('FINES_IP')\n",
    "FINES_PM_PASSWORD = os.getenv('FINES_PM_PASSWORD')\n",
    "# Open the fines PMX Display panel.\n",
    "print(\"FINES_SIMS\",FINES_SIMS)\n",
    "print(\"FINES_ROUTER_IP\",FINES_ROUTER_IP)\n",
    "print(\"FINES_IP\",FINES_IP)\n",
    "print(\"FINES_PM_PASSWORD\",FINES_PM_PASSWORD)\n",
    "print(\"BROWSER_APP\",BROWSER_APP)\n",
    "import webbrowser\n",
    "\n",
    "funcspec = os.getenv('FUNC_SPEC')\n",
    "BROWSER_APP = os.getenv('BROWSER_APP')\n",
    "# Open the fines PMX Display panel.\n",
    "webbrowser.open(funcspec)\n",
    "webbrowser.open(BROWSER_APP)\n",
    "#Admin Panel Area for the VPM network.\n",
    "rcms = \"http://rcms-cloud.robustel.net\"\n",
    "# Open the fines PMX Display panel.\n",
    "webbrowser.open(rcms)"
   ]
  },
  {
   "cell_type": "code",
   "execution_count": null,
   "id": "2b43c7fd",
   "metadata": {},
   "outputs": [],
   "source": []
  }
 ],
 "metadata": {
  "kernelspec": {
   "display_name": "Python 3 (ipykernel)",
   "language": "python",
   "name": "python3"
  },
  "language_info": {
   "codemirror_mode": {
    "name": "ipython",
    "version": 3
   },
   "file_extension": ".py",
   "mimetype": "text/x-python",
   "name": "python",
   "nbconvert_exporter": "python",
   "pygments_lexer": "ipython3",
   "version": "3.10.8"
  }
 },
 "nbformat": 4,
 "nbformat_minor": 5
}
