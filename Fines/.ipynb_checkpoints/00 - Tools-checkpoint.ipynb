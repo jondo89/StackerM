{
 "cells": [
  {
   "cell_type": "code",
   "execution_count": 3,
   "id": "8706077f",
   "metadata": {},
   "outputs": [
    {
     "ename": "TypeError",
     "evalue": "name must be an instance of str",
     "output_type": "error",
     "traceback": [
      "\u001b[1;31m---------------------------------------------------------------------------\u001b[0m",
      "\u001b[1;31mTypeError\u001b[0m                                 Traceback (most recent call last)",
      "Cell \u001b[1;32mIn[3], line 16\u001b[0m\n\u001b[0;32m     13\u001b[0m db \u001b[38;5;241m=\u001b[39m client\u001b[38;5;241m.\u001b[39mentangelment\n\u001b[0;32m     15\u001b[0m \u001b[38;5;66;03m# drop the specified collection\u001b[39;00m\n\u001b[1;32m---> 16\u001b[0m \u001b[43mdb\u001b[49m\u001b[43m[\u001b[49m\u001b[43mCOLLECTIONCSVFILES\u001b[49m\u001b[43m]\u001b[49m\u001b[38;5;241m.\u001b[39mdrop()\n\u001b[0;32m     18\u001b[0m \u001b[38;5;66;03m# restore the collection from the backup\u001b[39;00m\n\u001b[0;32m     19\u001b[0m restore_command \u001b[38;5;241m=\u001b[39m \u001b[38;5;124mf\u001b[39m\u001b[38;5;124m\"\u001b[39m\u001b[38;5;124mmongorestore --db entangelment --collection \u001b[39m\u001b[38;5;132;01m{\u001b[39;00mCOLLECTIONCSVFILES\u001b[38;5;132;01m}\u001b[39;00m\u001b[38;5;124m \u001b[39m\u001b[38;5;132;01m{\u001b[39;00mBACKUP_PATH\u001b[38;5;132;01m}\u001b[39;00m\u001b[38;5;124m\"\u001b[39m\n",
      "File \u001b[1;32m~\\AppData\\Local\\Packages\\PythonSoftwareFoundation.Python.3.11_qbz5n2kfra8p0\\LocalCache\\local-packages\\Python311\\site-packages\\pymongo\\database.py:237\u001b[0m, in \u001b[0;36mDatabase.__getitem__\u001b[1;34m(self, name)\u001b[0m\n\u001b[0;32m    229\u001b[0m \u001b[38;5;28;01mdef\u001b[39;00m \u001b[38;5;21m__getitem__\u001b[39m(\u001b[38;5;28mself\u001b[39m, name: \u001b[38;5;28mstr\u001b[39m) \u001b[38;5;241m-\u001b[39m\u001b[38;5;241m>\u001b[39m \u001b[38;5;124m\"\u001b[39m\u001b[38;5;124mCollection[_DocumentType]\u001b[39m\u001b[38;5;124m\"\u001b[39m:\n\u001b[0;32m    230\u001b[0m \u001b[38;5;250m    \u001b[39m\u001b[38;5;124;03m\"\"\"Get a collection of this database by name.\u001b[39;00m\n\u001b[0;32m    231\u001b[0m \n\u001b[0;32m    232\u001b[0m \u001b[38;5;124;03m    Raises InvalidName if an invalid collection name is used.\u001b[39;00m\n\u001b[1;32m   (...)\u001b[0m\n\u001b[0;32m    235\u001b[0m \u001b[38;5;124;03m      - `name`: the name of the collection to get\u001b[39;00m\n\u001b[0;32m    236\u001b[0m \u001b[38;5;124;03m    \"\"\"\u001b[39;00m\n\u001b[1;32m--> 237\u001b[0m     \u001b[38;5;28;01mreturn\u001b[39;00m \u001b[43mCollection\u001b[49m\u001b[43m(\u001b[49m\u001b[38;5;28;43mself\u001b[39;49m\u001b[43m,\u001b[49m\u001b[43m \u001b[49m\u001b[43mname\u001b[49m\u001b[43m)\u001b[49m\n",
      "File \u001b[1;32m~\\AppData\\Local\\Packages\\PythonSoftwareFoundation.Python.3.11_qbz5n2kfra8p0\\LocalCache\\local-packages\\Python311\\site-packages\\pymongo\\collection.py:212\u001b[0m, in \u001b[0;36mCollection.__init__\u001b[1;34m(self, database, name, create, codec_options, read_preference, write_concern, read_concern, session, **kwargs)\u001b[0m\n\u001b[0;32m    205\u001b[0m \u001b[38;5;28msuper\u001b[39m(Collection, \u001b[38;5;28mself\u001b[39m)\u001b[38;5;241m.\u001b[39m\u001b[38;5;21m__init__\u001b[39m(\n\u001b[0;32m    206\u001b[0m     codec_options \u001b[38;5;129;01mor\u001b[39;00m database\u001b[38;5;241m.\u001b[39mcodec_options,\n\u001b[0;32m    207\u001b[0m     read_preference \u001b[38;5;129;01mor\u001b[39;00m database\u001b[38;5;241m.\u001b[39mread_preference,\n\u001b[0;32m    208\u001b[0m     write_concern \u001b[38;5;129;01mor\u001b[39;00m database\u001b[38;5;241m.\u001b[39mwrite_concern,\n\u001b[0;32m    209\u001b[0m     read_concern \u001b[38;5;129;01mor\u001b[39;00m database\u001b[38;5;241m.\u001b[39mread_concern,\n\u001b[0;32m    210\u001b[0m )\n\u001b[0;32m    211\u001b[0m \u001b[38;5;28;01mif\u001b[39;00m \u001b[38;5;129;01mnot\u001b[39;00m \u001b[38;5;28misinstance\u001b[39m(name, \u001b[38;5;28mstr\u001b[39m):\n\u001b[1;32m--> 212\u001b[0m     \u001b[38;5;28;01mraise\u001b[39;00m \u001b[38;5;167;01mTypeError\u001b[39;00m(\u001b[38;5;124m\"\u001b[39m\u001b[38;5;124mname must be an instance of str\u001b[39m\u001b[38;5;124m\"\u001b[39m)\n\u001b[0;32m    214\u001b[0m \u001b[38;5;28;01mif\u001b[39;00m \u001b[38;5;129;01mnot\u001b[39;00m name \u001b[38;5;129;01mor\u001b[39;00m \u001b[38;5;124m\"\u001b[39m\u001b[38;5;124m..\u001b[39m\u001b[38;5;124m\"\u001b[39m \u001b[38;5;129;01min\u001b[39;00m name:\n\u001b[0;32m    215\u001b[0m     \u001b[38;5;28;01mraise\u001b[39;00m InvalidName(\u001b[38;5;124m\"\u001b[39m\u001b[38;5;124mcollection names cannot be empty\u001b[39m\u001b[38;5;124m\"\u001b[39m)\n",
      "\u001b[1;31mTypeError\u001b[0m: name must be an instance of str"
     ]
    }
   ],
   "source": [
    "from pymongo import MongoClient\n",
    "import subprocess\n",
    "import os\n",
    "\n",
    "# set environment variables\n",
    "COLLECTIONCSVFILES = os.getenv('COLLECTIONCSVFILES')\n",
    "BACKUP_PATH = 'C:\\\\GitHub\\\\mongodbbackup_cloud\\\\2023-06-08\\\\' # path to your backup directory\n",
    "\n",
    "# establish a connection to the MongoDB\n",
    "client = MongoClient('mongodb://localhost:27017')\n",
    "\n",
    "# get the database\n",
    "db = client.entangelment\n",
    "\n",
    "# drop the specified collection\n",
    "db[COLLECTIONCSVFILES].drop()\n",
    "\n",
    "# restore the collection from the backup\n",
    "restore_command = f\"mongorestore --db entangelment --collection {COLLECTIONCSVFILES} {BACKUP_PATH}\"\n",
    "subprocess.run(restore_command, shell=True)\n"
   ]
  },
  {
   "cell_type": "code",
   "execution_count": null,
   "id": "c3fb471e",
   "metadata": {},
   "outputs": [],
   "source": []
  }
 ],
 "metadata": {
  "kernelspec": {
   "display_name": "Python 3 (ipykernel)",
   "language": "python",
   "name": "python3"
  },
  "language_info": {
   "codemirror_mode": {
    "name": "ipython",
    "version": 3
   },
   "file_extension": ".py",
   "mimetype": "text/x-python",
   "name": "python",
   "nbconvert_exporter": "python",
   "pygments_lexer": "ipython3",
   "version": "3.11.4"
  }
 },
 "nbformat": 4,
 "nbformat_minor": 5
}
