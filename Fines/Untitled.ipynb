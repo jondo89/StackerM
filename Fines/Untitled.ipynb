{
 "cells": [
  {
   "cell_type": "code",
   "execution_count": null,
   "metadata": {},
   "outputs": [],
   "source": [
    "\n"
   ]
  },
  {
   "cell_type": "code",
   "execution_count": 4,
   "metadata": {},
   "outputs": [
    {
     "name": "stdout",
     "output_type": "stream",
     "text": [
      "6:00:00\n"
     ]
    }
   ],
   "source": [
    "import rainflow\n",
    "import pandas\n",
    "import glob # module for reading files from a directory\n",
    "import os # module for getting only the filename not the whole path\n",
    "from datetime import datetime\n",
    "\n",
    "file_name = '13-06-2020_18-44-10-729.csv'\n",
    "\n",
    "datelist = []\n",
    "\n",
    "x = pandas.read_csv(file_name, delimiter=';',low_memory=False)#read in each CSV file\n",
    "#Extract the start and end times on each CSV file\n",
    "startTime= str(x.iloc[[0]]['Time'].values[0]) # string extract of start and end times for CSV\n",
    "EndTime= str(x.iloc[[-5]]['Time'].values[0]) # string extract of start and end times for CSV\n",
    "#print(startTime)\n",
    "#print(EndTime)\n",
    "\n",
    "#require string test for failed CSV files here. hence the -5\n",
    "\n",
    "#datetime_object = str(date[0:10]).replace(\"-\", \" \")\n",
    "#print(datetime_object)\n",
    "dateObject = str(startTime[0:10]).replace(\"-\", \" \")\n",
    "timeObject = str(startTime[11:19]).replace(\"-\", \" \")\n",
    "total = dateObject+' '+timeObject\n",
    "dateObject = datetime.strptime(total, '%d %m %Y %H %M %S')\n",
    "startTimeStr = str(dateObject)\n",
    "startTime = dateObject\n",
    "\n",
    "dateObject = str(EndTime[0:10]).replace(\"-\", \" \")\n",
    "timeObject = str(EndTime[11:19]).replace(\"-\", \" \")\n",
    "total = dateObject+' '+timeObject\n",
    "dateObject = datetime.strptime(total, '%d %m %Y %H %M %S')\n",
    "EndTimeStr = str(dateObject)\n",
    "EndTime = dateObject\n",
    "\n",
    "\n",
    "duration = EndTime - startTime\n",
    "#print('this is the duration : ', duration)\n",
    "\n",
    "#RawData = pandas.concat([RawData.reset_index(drop=True),x.reset_index(drop=True)], axis= 0, sort=False)\n",
    "#print(RawData)\n",
    "\n",
    "print(duration)"
   ]
  },
  {
   "cell_type": "code",
   "execution_count": null,
   "metadata": {},
   "outputs": [],
   "source": []
  }
 ],
 "metadata": {
  "kernelspec": {
   "display_name": "Python 3",
   "language": "python",
   "name": "python3"
  },
  "language_info": {
   "codemirror_mode": {
    "name": "ipython",
    "version": 3
   },
   "file_extension": ".py",
   "mimetype": "text/x-python",
   "name": "python",
   "nbconvert_exporter": "python",
   "pygments_lexer": "ipython3",
   "version": "3.7.6"
  }
 },
 "nbformat": 4,
 "nbformat_minor": 4
}
