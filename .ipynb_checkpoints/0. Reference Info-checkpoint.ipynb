{
 "cells": [
  {
   "cell_type": "code",
   "execution_count": null,
   "id": "f9ca537e",
   "metadata": {},
   "outputs": [],
   "source": [
    "#Reference Information \n",
    "\n",
    "\n",
    "#Google Drive Report Folder\n",
    "#https://drive.google.com/drive/folders/1FNpvSnLP9X2LsLVMAAUg58Q4H78ANYvC"
   ]
  }
 ],
 "metadata": {
  "kernelspec": {
   "display_name": "Python 3 (ipykernel)",
   "language": "python",
   "name": "python3"
  },
  "language_info": {
   "codemirror_mode": {
    "name": "ipython",
    "version": 3
   },
   "file_extension": ".py",
   "mimetype": "text/x-python",
   "name": "python",
   "nbconvert_exporter": "python",
   "pygments_lexer": "ipython3",
   "version": "3.10.10"
  }
 },
 "nbformat": 4,
 "nbformat_minor": 5
}
