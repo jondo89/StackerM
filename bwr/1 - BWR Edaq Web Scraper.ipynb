{
 "cells": [
  {
   "cell_type": "code",
   "execution_count": 42,
   "id": "6be855cc",
   "metadata": {},
   "outputs": [],
   "source": [
    "#INSTRUCTIONS:\n",
    "#1. Boot up RobustVPN_Manager\n",
    "#2. Login to the VPN Network.\n",
    "#3. Likley there is no data on the sim card.\n",
    "\n",
    "#Google Drive Functional Spec\n",
    "#https://docs.google.com/document/d/1DxqJCOKn40OIKej5CaKQ3CNnHxVCJO3I2LFPDUv4V0I/edit#"
   ]
  },
  {
   "cell_type": "code",
   "execution_count": 43,
   "id": "cf5a3184",
   "metadata": {},
   "outputs": [],
   "source": [
    "#TroubleShooting\n",
    "#1. OPENVPN Protocals make use of Tap-windows adaptores. NFI.\n",
    "#2. If you cannot connect , look at the log file for the Robustel VPN connection , and likley download the TAP v9 driver.\n",
    "#3. Licencing on the Robusttel network needs to be uptodate. Automatic Licencing.\n",
    "#4. VPN network needs user and group added. If you cant see devices , that is why"
   ]
  },
  {
   "cell_type": "code",
   "execution_count": 44,
   "id": "0e401fc2",
   "metadata": {},
   "outputs": [
    {
     "data": {
      "text/plain": [
       "True"
      ]
     },
     "execution_count": 44,
     "metadata": {},
     "output_type": "execute_result"
    }
   ],
   "source": [
    "#This is a file stream function , and as such requries a \"promise\" for inline code, wont work in the cell as is below. \n",
    "#To lazy to work out syncronous functions in python yet.\n",
    "import os\n",
    "from pathlib import Path \n",
    "from dotenv import load_dotenv # add this line\n",
    "env_path = Path('.') / '.env'\n",
    "load_dotenv(dotenv_path=env_path)"
   ]
  },
  {
   "cell_type": "code",
   "execution_count": 45,
   "id": "122fa5b2",
   "metadata": {},
   "outputs": [
    {
     "name": "stdout",
     "output_type": "stream",
     "text": [
      "BWR_SIMS 0760454336\n",
      "BWR_ROUTER_IP http://192.168.100.200/\n",
      "BWR_IP http://192.168.100.101/\n",
      "BWR_PM_PASSWORD none\n",
      "BROWSER_APP http://localhost:2000/\n"
     ]
    },
    {
     "data": {
      "text/plain": [
       "True"
      ]
     },
     "execution_count": 45,
     "metadata": {},
     "output_type": "execute_result"
    }
   ],
   "source": [
    "import webbrowser\n",
    "\n",
    "BWR_SIMS = os.getenv('BWR_SIMS')\n",
    "BWR_ROUTER_IP = os.getenv('BWR_ROUTER_IP')\n",
    "BWR_IP = os.getenv('BWR_IP')\n",
    "BWR_PM_PASSWORD = os.getenv('BWR_PM_PASSWORD')\n",
    "BROWSER_APP = os.getenv('BROWSER_APP')\n",
    "# Open the fines PMX Display panel.\n",
    "print(\"BWR_SIMS\",BWR_SIMS)\n",
    "print(\"BWR_ROUTER_IP\",BWR_ROUTER_IP)\n",
    "print(\"BWR_IP\",BWR_IP)\n",
    "print(\"BWR_PM_PASSWORD\",BWR_PM_PASSWORD)\n",
    "print(\"BROWSER_APP\",BROWSER_APP)\n",
    "import webbrowser\n",
    "\n",
    "funcspec = os.getenv('FUNC_SPEC')\n",
    "webbrowser.open(funcspec)\n",
    "csvDir = BWR_IP+\"/eDAQ/Data\"\n",
    "webbrowser.open(csvDir)\n",
    "webbrowser.open(BWR_ROUTER_IP)"
   ]
  },
  {
   "cell_type": "code",
   "execution_count": 40,
   "id": "5a905790",
   "metadata": {},
   "outputs": [],
   "source": [
    "#This gets the content of the webpage on the PMX.\n",
    "import requests\n",
    "webpage = requests.get(csvDir)"
   ]
  },
  {
   "cell_type": "code",
   "execution_count": 46,
   "id": "4956c264",
   "metadata": {},
   "outputs": [
    {
     "name": "stdout",
     "output_type": "stream",
     "text": [
      "Beginning file download with wget module\n",
      "http://192.168.100.101/-/test/DBC48F49/data/get/BWR%2020211127%20-%20KGJD.sie /data/1.txt\n",
      "http://192.168.100.101/-/test/DBC48F49/data/get/BWR%2020211127%20-%20KGJD.sie\n",
      "Downloading: 0% [679936 / 505881504] bytes"
     ]
    },
    {
     "ename": "KeyboardInterrupt",
     "evalue": "",
     "output_type": "error",
     "traceback": [
      "\u001b[1;31m---------------------------------------------------------------------------\u001b[0m",
      "\u001b[1;31mKeyboardInterrupt\u001b[0m                         Traceback (most recent call last)",
      "Cell \u001b[1;32mIn[46], line 22\u001b[0m\n\u001b[0;32m     20\u001b[0m \u001b[38;5;28mprint\u001b[39m(\u001b[38;5;124m\"\u001b[39m\u001b[38;5;124mhttp://192.168.100.101/-/test/DBC48F49/data/get/BWR\u001b[39m\u001b[38;5;132;01m%2020211127%\u001b[39;00m\u001b[38;5;124m20-\u001b[39m\u001b[38;5;124m%\u001b[39m\u001b[38;5;124m20KGJD.sie\u001b[39m\u001b[38;5;124m\"\u001b[39m)\n\u001b[0;32m     21\u001b[0m save_path \u001b[38;5;241m=\u001b[39m \u001b[38;5;124m\"\u001b[39m\u001b[38;5;124m/data/\u001b[39m\u001b[38;5;124m\"\u001b[39m\u001b[38;5;241m+\u001b[39m\u001b[38;5;124m\"\u001b[39m\u001b[38;5;124m1.txt\u001b[39m\u001b[38;5;124m\"\u001b[39m\n\u001b[1;32m---> 22\u001b[0m \u001b[43mwget\u001b[49m\u001b[38;5;241;43m.\u001b[39;49m\u001b[43mdownload\u001b[49m\u001b[43m(\u001b[49m\u001b[43murl\u001b[49m\u001b[43m,\u001b[49m\u001b[43m \u001b[49m\u001b[43msave_path\u001b[49m\u001b[43m,\u001b[49m\u001b[43m \u001b[49m\u001b[43mbar\u001b[49m\u001b[38;5;241;43m=\u001b[39;49m\u001b[43mbar_progress\u001b[49m\u001b[43m)\u001b[49m\n",
      "File \u001b[1;32m~\\AppData\\Local\\Packages\\PythonSoftwareFoundation.Python.3.10_qbz5n2kfra8p0\\LocalCache\\local-packages\\Python310\\site-packages\\wget.py:526\u001b[0m, in \u001b[0;36mdownload\u001b[1;34m(url, out, bar)\u001b[0m\n\u001b[0;32m    524\u001b[0m \u001b[38;5;28;01melse\u001b[39;00m:\n\u001b[0;32m    525\u001b[0m     binurl \u001b[38;5;241m=\u001b[39m url\n\u001b[1;32m--> 526\u001b[0m (tmpfile, headers) \u001b[38;5;241m=\u001b[39m \u001b[43mulib\u001b[49m\u001b[38;5;241;43m.\u001b[39;49m\u001b[43murlretrieve\u001b[49m\u001b[43m(\u001b[49m\u001b[43mbinurl\u001b[49m\u001b[43m,\u001b[49m\u001b[43m \u001b[49m\u001b[43mtmpfile\u001b[49m\u001b[43m,\u001b[49m\u001b[43m \u001b[49m\u001b[43mcallback\u001b[49m\u001b[43m)\u001b[49m\n\u001b[0;32m    527\u001b[0m filename \u001b[38;5;241m=\u001b[39m detect_filename(url, out, headers)\n\u001b[0;32m    528\u001b[0m \u001b[38;5;28;01mif\u001b[39;00m outdir:\n",
      "File \u001b[1;32mC:\\Program Files\\WindowsApps\\PythonSoftwareFoundation.Python.3.10_3.10.2544.0_x64__qbz5n2kfra8p0\\lib\\urllib\\request.py:270\u001b[0m, in \u001b[0;36murlretrieve\u001b[1;34m(url, filename, reporthook, data)\u001b[0m\n\u001b[0;32m    267\u001b[0m     reporthook(blocknum, bs, size)\n\u001b[0;32m    269\u001b[0m \u001b[38;5;28;01mwhile\u001b[39;00m \u001b[38;5;28;01mTrue\u001b[39;00m:\n\u001b[1;32m--> 270\u001b[0m     block \u001b[38;5;241m=\u001b[39m \u001b[43mfp\u001b[49m\u001b[38;5;241;43m.\u001b[39;49m\u001b[43mread\u001b[49m\u001b[43m(\u001b[49m\u001b[43mbs\u001b[49m\u001b[43m)\u001b[49m\n\u001b[0;32m    271\u001b[0m     \u001b[38;5;28;01mif\u001b[39;00m \u001b[38;5;129;01mnot\u001b[39;00m block:\n\u001b[0;32m    272\u001b[0m         \u001b[38;5;28;01mbreak\u001b[39;00m\n",
      "File \u001b[1;32mC:\\Program Files\\WindowsApps\\PythonSoftwareFoundation.Python.3.10_3.10.2544.0_x64__qbz5n2kfra8p0\\lib\\http\\client.py:465\u001b[0m, in \u001b[0;36mHTTPResponse.read\u001b[1;34m(self, amt)\u001b[0m\n\u001b[0;32m    462\u001b[0m \u001b[38;5;28;01mif\u001b[39;00m \u001b[38;5;28mself\u001b[39m\u001b[38;5;241m.\u001b[39mlength \u001b[38;5;129;01mis\u001b[39;00m \u001b[38;5;129;01mnot\u001b[39;00m \u001b[38;5;28;01mNone\u001b[39;00m \u001b[38;5;129;01mand\u001b[39;00m amt \u001b[38;5;241m>\u001b[39m \u001b[38;5;28mself\u001b[39m\u001b[38;5;241m.\u001b[39mlength:\n\u001b[0;32m    463\u001b[0m     \u001b[38;5;66;03m# clip the read to the \"end of response\"\u001b[39;00m\n\u001b[0;32m    464\u001b[0m     amt \u001b[38;5;241m=\u001b[39m \u001b[38;5;28mself\u001b[39m\u001b[38;5;241m.\u001b[39mlength\n\u001b[1;32m--> 465\u001b[0m s \u001b[38;5;241m=\u001b[39m \u001b[38;5;28;43mself\u001b[39;49m\u001b[38;5;241;43m.\u001b[39;49m\u001b[43mfp\u001b[49m\u001b[38;5;241;43m.\u001b[39;49m\u001b[43mread\u001b[49m\u001b[43m(\u001b[49m\u001b[43mamt\u001b[49m\u001b[43m)\u001b[49m\n\u001b[0;32m    466\u001b[0m \u001b[38;5;28;01mif\u001b[39;00m \u001b[38;5;129;01mnot\u001b[39;00m s \u001b[38;5;129;01mand\u001b[39;00m amt:\n\u001b[0;32m    467\u001b[0m     \u001b[38;5;66;03m# Ideally, we would raise IncompleteRead if the content-length\u001b[39;00m\n\u001b[0;32m    468\u001b[0m     \u001b[38;5;66;03m# wasn't satisfied, but it might break compatibility.\u001b[39;00m\n\u001b[0;32m    469\u001b[0m     \u001b[38;5;28mself\u001b[39m\u001b[38;5;241m.\u001b[39m_close_conn()\n",
      "File \u001b[1;32mC:\\Program Files\\WindowsApps\\PythonSoftwareFoundation.Python.3.10_3.10.2544.0_x64__qbz5n2kfra8p0\\lib\\socket.py:705\u001b[0m, in \u001b[0;36mSocketIO.readinto\u001b[1;34m(self, b)\u001b[0m\n\u001b[0;32m    703\u001b[0m \u001b[38;5;28;01mwhile\u001b[39;00m \u001b[38;5;28;01mTrue\u001b[39;00m:\n\u001b[0;32m    704\u001b[0m     \u001b[38;5;28;01mtry\u001b[39;00m:\n\u001b[1;32m--> 705\u001b[0m         \u001b[38;5;28;01mreturn\u001b[39;00m \u001b[38;5;28;43mself\u001b[39;49m\u001b[38;5;241;43m.\u001b[39;49m\u001b[43m_sock\u001b[49m\u001b[38;5;241;43m.\u001b[39;49m\u001b[43mrecv_into\u001b[49m\u001b[43m(\u001b[49m\u001b[43mb\u001b[49m\u001b[43m)\u001b[49m\n\u001b[0;32m    706\u001b[0m     \u001b[38;5;28;01mexcept\u001b[39;00m timeout:\n\u001b[0;32m    707\u001b[0m         \u001b[38;5;28mself\u001b[39m\u001b[38;5;241m.\u001b[39m_timeout_occurred \u001b[38;5;241m=\u001b[39m \u001b[38;5;28;01mTrue\u001b[39;00m\n",
      "\u001b[1;31mKeyboardInterrupt\u001b[0m: "
     ]
    }
   ],
   "source": [
    "def bar_progress(current, total, width=80):\n",
    "  progress_message = \"Downloading: %d%% [%d / %d] bytes\" % (current / total * 100, current, total)\n",
    "  # Don't use print() as it will print in new line every time.\n",
    "  sys.stdout.write(\"\\r\" + progress_message)\n",
    "  sys.stdout.flush()\n",
    "\n",
    "#Web scrap list of all csvs hyperlinks on page.\n",
    "from bs4 import BeautifulSoup\n",
    "import wget # downloading module , with progress bar.\n",
    "webpage = requests.get(csvDir)\n",
    "html_doc = webpage.text\n",
    "soup = BeautifulSoup(html_doc, 'html.parser')\n",
    "for link in soup.find_all('a'):\n",
    "    if 'KGJD.sie' in link.get('href'):\n",
    "        print('Beginning file download with wget module')\n",
    "        #Now use this like below,\n",
    "        BWR_IPmodified = BWR_IP[:len(BWR_IP)-1]# remove the last string character , which is a /\n",
    "        url = BWR_IPmodified+\"\"+ link.get('href')\n",
    "        print(url, save_path)\n",
    "        print(\"http://192.168.100.101/-/test/DBC48F49/data/get/BWR%2020211127%20-%20KGJD.sie\")\n",
    "        save_path = \"/data/\"+\"1.txt\"\n",
    "        wget.download(url, save_path, bar=bar_progress)\n",
    " \n",
    "        "
   ]
  },
  {
   "cell_type": "code",
   "execution_count": 42,
   "id": "44398900",
   "metadata": {},
   "outputs": [],
   "source": [
    "import webbrowser\n",
    "#Web page showing the USB drive on the PMX\n",
    "finesip = os.getenv('FINES_IP')\n",
    "# Open the fines PMX Display panel.\n",
    "webbrowser.open(finesip)\n",
    "webbrowser.open(finesip+\"_USB____-_SanDisk_3.2Gen1-1/\")\n",
    "csvDir = finesip+\"_USB____-_SanDisk_3.2Gen1-1/\""
   ]
  },
  {
   "cell_type": "code",
   "execution_count": 11,
   "id": "b13dd3be",
   "metadata": {},
   "outputs": [
    {
     "data": {
      "text/plain": [
       "True"
      ]
     },
     "execution_count": 11,
     "metadata": {},
     "output_type": "execute_result"
    }
   ],
   "source": [
    "import webbrowser\n",
    "#Admin Panel Area for the VPM network.\n",
    "ecms = \"http://rcms-cloud.robustel.net\"\n",
    "# Open the fines PMX Display panel.\n",
    "webbrowser.open(ecms)"
   ]
  },
  {
   "cell_type": "code",
   "execution_count": null,
   "id": "0dd96014",
   "metadata": {},
   "outputs": [],
   "source": []
  }
 ],
 "metadata": {
  "kernelspec": {
   "display_name": "Python 3 (ipykernel)",
   "language": "python",
   "name": "python3"
  },
  "language_info": {
   "codemirror_mode": {
    "name": "ipython",
    "version": 3
   },
   "file_extension": ".py",
   "mimetype": "text/x-python",
   "name": "python",
   "nbconvert_exporter": "python",
   "pygments_lexer": "ipython3",
   "version": "3.10.9"
  }
 },
 "nbformat": 4,
 "nbformat_minor": 5
}
